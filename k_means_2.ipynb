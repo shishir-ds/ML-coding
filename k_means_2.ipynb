{
 "cells": [
  {
   "cell_type": "markdown",
   "id": "functional-corrections",
   "metadata": {},
   "source": [
    "## K-means with multi-dimensional data\n",
    " \n",
    "$X_{n \\times d}$"
   ]
  },
  {
   "cell_type": "code",
   "execution_count": 6,
   "id": "formal-antique",
   "metadata": {},
   "outputs": [],
   "source": [
    "import numpy as np\n",
    "import time"
   ]
  },
  {
   "cell_type": "code",
   "execution_count": 7,
   "id": "durable-horse",
   "metadata": {},
   "outputs": [],
   "source": [
    "n, d, k=1000, 20, 4\n",
    "max_itr=100"
   ]
  },
  {
   "cell_type": "code",
   "execution_count": 8,
   "id": "egyptian-omaha",
   "metadata": {},
   "outputs": [],
   "source": [
    "X=np.random.random((n,d))"
   ]
  },
  {
   "cell_type": "code",
   "execution_count": 11,
   "id": "5336804f",
   "metadata": {},
   "outputs": [
    {
     "data": {
      "text/plain": [
       "(20,)"
      ]
     },
     "execution_count": 11,
     "metadata": {},
     "output_type": "execute_result"
    }
   ],
   "source": [
    "X[0].shape"
   ]
  },
  {
   "cell_type": "markdown",
   "id": "employed-helen",
   "metadata": {},
   "source": [
    "$$ argmin_j  ||x_i - c_j||_2 $$"
   ]
  },
  {
   "cell_type": "code",
   "execution_count": 1,
   "id": "center-timer",
   "metadata": {},
   "outputs": [],
   "source": [
    "def k_means(X, k):\n",
    "    #Randomly Initialize Centroids\n",
    "    np.random.seed(0)\n",
    "    C= X[np.random.randint(n,size=k),:]\n",
    "    E=np.float('inf')\n",
    "    for itr in range(max_itr):\n",
    "        \n",
    "        # Find the distance of each point from the centroids \n",
    "        E_prev=E\n",
    "        E=0\n",
    "        center_idx=np.zeros(n)\n",
    "        for i in range(n):\n",
    "            min_d=np.float('inf')\n",
    "            c=0\n",
    "            for j in range(k):\n",
    "                d=np.linalg.norm(X[i,:]-C[j,:],2)\n",
    "                if d<min_d:\n",
    "                    min_d=d\n",
    "                    c=j\n",
    "            \n",
    "            E+=min_d\n",
    "            center_idx[i]=c\n",
    "            \n",
    "        #Find the new centers\n",
    "        for j in range(k):\n",
    "            C[j,:]=np.mean( X[center_idx==j,:] ,0)\n",
    "        \n",
    "        if itr%10==0:\n",
    "            print(E)\n",
    "        if E_prev==E:\n",
    "            break\n",
    "            \n",
    "    return C, E, center_idx"
   ]
  },
  {
   "cell_type": "markdown",
   "id": "material-hayes",
   "metadata": {},
   "source": [
    "$$ argmin_j  ||x_i - c_j||_2 $$\n",
    "\n",
    "$$||x_i - c_j||_2 = \\sqrt{(x_i - c_j)^T (x_i-c_j)} = \\sqrt{x_i^T x_i -2 x_i^T c_j + c_j^T c_j} $$\n",
    "\n",
    "- $ diag(X~X^T)$, can be used to get $x_i^T x_i$\n",
    "\n",
    "- $X~C^T $, can be used to get $x_i^T c_j$\n",
    "\n",
    "- $diag(C~C^T)$, can be used to get $c_j^T c_j$"
   ]
  },
  {
   "cell_type": "code",
   "execution_count": 2,
   "id": "colored-linux",
   "metadata": {},
   "outputs": [],
   "source": [
    "def k_means_vectorized(X, k):\n",
    "    \n",
    "    #Randomly Initialize Centroids\n",
    "    np.random.seed(0)\n",
    "    C= X[np.random.randint(n,size=k),:]\n",
    "    E=np.float('inf')\n",
    "    for itr in range(max_itr):\n",
    "        # Find the distance of each point from the centroids \n",
    "        XX= np.tile(np.diag(np.matmul(X, X.T)), (k,1) ).T\n",
    "        XC=np.matmul(X, C.T)\n",
    "        CC= np.tile(np.diag(np.matmul(C, C.T)), (n,1)) \n",
    "\n",
    "        D= np.sqrt(XX-2*XC+CC)\n",
    "\n",
    "        # Assign the elements to the centroids:\n",
    "        center_idx=np.argmin(D, axis=1)\n",
    "\n",
    "        #Find the new centers\n",
    "        for j in range(k):\n",
    "            C[j,:]=np.mean( X[center_idx==j,:] ,0)\n",
    "\n",
    "        #Find the error\n",
    "        E_prev=E\n",
    "        E=np.sum(D[np.arange(n),center_idx])\n",
    "        if itr%10==0:\n",
    "            print(E)\n",
    "        if E_prev==E:\n",
    "            break\n",
    "    \n",
    "    return C, E, center_idx"
   ]
  },
  {
   "cell_type": "code",
   "execution_count": 12,
   "id": "equivalent-platinum",
   "metadata": {},
   "outputs": [
    {
     "name": "stderr",
     "output_type": "stream",
     "text": [
      "C:\\Users\\NH2091\\AppData\\Local\\Temp\\ipykernel_6292\\973812851.py:5: DeprecationWarning: `np.float` is a deprecated alias for the builtin `float`. To silence this warning, use `float` by itself. Doing this will not modify any behavior and is safe. If you specifically wanted the numpy scalar type, use `np.float64` here.\n",
      "Deprecated in NumPy 1.20; for more details and guidance: https://numpy.org/devdocs/release/1.20.0-notes.html#deprecations\n",
      "  E=np.float('inf')\n",
      "C:\\Users\\NH2091\\AppData\\Local\\Temp\\ipykernel_6292\\973812851.py:13: DeprecationWarning: `np.float` is a deprecated alias for the builtin `float`. To silence this warning, use `float` by itself. Doing this will not modify any behavior and is safe. If you specifically wanted the numpy scalar type, use `np.float64` here.\n",
      "Deprecated in NumPy 1.20; for more details and guidance: https://numpy.org/devdocs/release/1.20.0-notes.html#deprecations\n",
      "  min_d=np.float('inf')\n"
     ]
    },
    {
     "name": "stdout",
     "output_type": "stream",
     "text": [
      "1564.1020364442825\n",
      "1221.2025638509783\n",
      "1220.0380053008505\n",
      "0.5141806602478027 seconds\n"
     ]
    }
   ],
   "source": [
    "start=time.time()\n",
    "C, E, center_idx = k_means(X, k)\n",
    "print(time.time()-start,'seconds')"
   ]
  },
  {
   "cell_type": "code",
   "execution_count": 13,
   "id": "environmental-steam",
   "metadata": {},
   "outputs": [
    {
     "name": "stdout",
     "output_type": "stream",
     "text": [
      "1564.1020364442802\n",
      "1221.2025638509795\n",
      "1220.0380053008491\n",
      "0.09464907646179199 seconds\n"
     ]
    },
    {
     "name": "stderr",
     "output_type": "stream",
     "text": [
      "C:\\Users\\NH2091\\AppData\\Local\\Temp\\ipykernel_6292\\1456472314.py:6: DeprecationWarning: `np.float` is a deprecated alias for the builtin `float`. To silence this warning, use `float` by itself. Doing this will not modify any behavior and is safe. If you specifically wanted the numpy scalar type, use `np.float64` here.\n",
      "Deprecated in NumPy 1.20; for more details and guidance: https://numpy.org/devdocs/release/1.20.0-notes.html#deprecations\n",
      "  E=np.float('inf')\n"
     ]
    }
   ],
   "source": [
    "start=time.time()\n",
    "C, E, center_idx = k_means_vectorized(X, k)\n",
    "print(time.time()-start,'seconds')"
   ]
  },
  {
   "cell_type": "code",
   "execution_count": 14,
   "id": "north-picking",
   "metadata": {},
   "outputs": [],
   "source": [
    "a1=[[1,2,3],[4,5,6],[7,8,9]]"
   ]
  },
  {
   "cell_type": "code",
   "execution_count": 16,
   "id": "c109d494",
   "metadata": {},
   "outputs": [
    {
     "data": {
      "text/plain": [
       "array([[ 30,  36,  42],\n",
       "       [ 66,  81,  96],\n",
       "       [102, 126, 150]])"
      ]
     },
     "execution_count": 16,
     "metadata": {},
     "output_type": "execute_result"
    }
   ],
   "source": [
    "np.matmul(a1,a1)"
   ]
  },
  {
   "cell_type": "code",
   "execution_count": 18,
   "id": "f4529d4b",
   "metadata": {},
   "outputs": [],
   "source": [
    "a2=[1,2,3]\n",
    "a3=[2,4,6]"
   ]
  },
  {
   "cell_type": "code",
   "execution_count": 22,
   "id": "4392d10c",
   "metadata": {},
   "outputs": [
    {
     "data": {
      "text/plain": [
       "1.0"
      ]
     },
     "execution_count": 22,
     "metadata": {},
     "output_type": "execute_result"
    }
   ],
   "source": [
    "np.dot(a2,a3)/round(np.linalg.norm(a2)*np.linalg.norm(a3),2)"
   ]
  },
  {
   "cell_type": "code",
   "execution_count": 25,
   "id": "b7c29e1e",
   "metadata": {},
   "outputs": [
    {
     "data": {
      "text/plain": [
       "28.0"
      ]
     },
     "execution_count": 25,
     "metadata": {},
     "output_type": "execute_result"
    }
   ],
   "source": [
    "np.linalg.norm(a2)*np.linalg.norm(a3)"
   ]
  },
  {
   "cell_type": "code",
   "execution_count": null,
   "id": "5a9da83f",
   "metadata": {},
   "outputs": [],
   "source": []
  }
 ],
 "metadata": {
  "kernelspec": {
   "display_name": "Python 3 (ipykernel)",
   "language": "python",
   "name": "python3"
  },
  "language_info": {
   "codemirror_mode": {
    "name": "ipython",
    "version": 3
   },
   "file_extension": ".py",
   "mimetype": "text/x-python",
   "name": "python",
   "nbconvert_exporter": "python",
   "pygments_lexer": "ipython3",
   "version": "3.8.16"
  }
 },
 "nbformat": 4,
 "nbformat_minor": 5
}
